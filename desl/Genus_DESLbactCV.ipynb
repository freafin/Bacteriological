{
 "cells": [
  {
   "cell_type": "markdown",
   "metadata": {},
   "source": [
    "## Preprocessing"
   ]
  },
  {
   "cell_type": "code",
   "execution_count": null,
   "metadata": {},
   "outputs": [],
   "source": [
    "import os\n",
    "import pandas as pd\n",
    "import numpy as np\n",
    "import xgboost as xgb\n",
    "from xgboost import XGBClassifier\n",
    "from xgboost import plot_importance\n",
    "import lightgbm as lgb\n",
    "from lightgbm import LGBMClassifier\n",
    "from sklearn.model_selection import train_test_split\n",
    "from sklearn.ensemble import RandomForestClassifier\n",
    "from sklearn.preprocessing import LabelEncoder\n",
    "import shap\n",
    "import matplotlib.pyplot as plt\n",
    "import tqdm\n",
    "from timeit import default_timer as timer\n",
    "\n",
    "from sklearn import metrics\n",
    "from sklearn.metrics import accuracy_score\n",
    "from sklearn.metrics import balanced_accuracy_score\n",
    "from sklearn.metrics import matthews_corrcoef\n",
    "from sklearn.metrics import f1_score\n",
    "from sklearn.metrics import confusion_matrix\n",
    "from sklearn.metrics import classification_report\n",
    "from sklearn.model_selection import LeaveOneOut\n",
    "from sklearn.model_selection import cross_val_score\n",
    "from sklearn.model_selection import cross_validate"
   ]
  },
  {
   "cell_type": "code",
   "execution_count": null,
   "metadata": {},
   "outputs": [],
   "source": [
    "os.chdir('c:/users/fre_f/pythonprojects/bacteriological/')"
   ]
  },
  {
   "cell_type": "code",
   "execution_count": null,
   "metadata": {},
   "outputs": [],
   "source": [
    "df = pd.read_csv('./data/Genus_DESL.csv')"
   ]
  },
  {
   "cell_type": "code",
   "execution_count": null,
   "metadata": {},
   "outputs": [],
   "source": [
    "df.head()"
   ]
  },
  {
   "cell_type": "code",
   "execution_count": null,
   "metadata": {},
   "outputs": [],
   "source": [
    "df.iloc[:,2:600]"
   ]
  },
  {
   "cell_type": "code",
   "execution_count": null,
   "metadata": {},
   "outputs": [],
   "source": [
    "df.iloc[:,1]"
   ]
  },
  {
   "cell_type": "code",
   "execution_count": null,
   "metadata": {},
   "outputs": [],
   "source": [
    "X = df.iloc[:,2:600]\n",
    "y = df.iloc[:,1]"
   ]
  },
  {
   "cell_type": "markdown",
   "metadata": {},
   "source": [
    "## Train, predict and explain"
   ]
  },
  {
   "cell_type": "markdown",
   "metadata": {},
   "source": [
    "### XGBoost"
   ]
  },
  {
   "cell_type": "code",
   "execution_count": 54,
   "metadata": {},
   "outputs": [],
   "source": [
    "le = LabelEncoder()\n",
    "y_xgb = le.fit_transform(y)\n",
    "scoring = ['f1_weighted']\n",
    "\n",
    "clfxgb = XGBClassifier(random_state=42)\n",
    "looxgb = LeaveOneOut()\n",
    "xgb_scores = cross_validate(clfxgb, X, y_xgb, cv=looxgb, scoring=scoring)\n"
   ]
  },
  {
   "cell_type": "code",
   "execution_count": 55,
   "metadata": {},
   "outputs": [
    {
     "data": {
      "text/plain": [
       "{'fit_time': array([0.35795212, 0.36647773, 0.37270188, 0.37232685, 0.3637383 ,\n",
       "        0.3819623 , 0.42426085, 0.43257499, 0.47839713, 0.44162798,\n",
       "        0.43728924, 0.44355345, 0.48326778, 0.45343781, 0.45857191,\n",
       "        0.46914005, 0.44369864, 0.45211458, 0.45962214, 0.44283271,\n",
       "        0.43702364, 0.44392109, 0.43498397, 0.42000175, 0.43300247,\n",
       "        0.43833113, 0.45280743, 0.45444226, 0.44372296, 0.4342854 ,\n",
       "        0.4471724 , 0.45114207, 0.46797371, 0.43994308, 0.45329404,\n",
       "        0.44049406, 0.45454788, 0.45683432, 0.43274832, 0.44979191,\n",
       "        0.44952273, 0.45472383, 0.45292521, 0.44776464, 0.4508419 ,\n",
       "        0.47417283, 0.47305059, 0.48154092, 0.46846676, 0.46272635,\n",
       "        0.4770515 , 0.47290754, 0.49470949, 0.45540524, 0.47462654,\n",
       "        0.46225333, 0.46141696, 0.45608091, 0.45486021, 0.45693088,\n",
       "        0.47331166]),\n",
       " 'score_time': array([0.0181849 , 0.01808238, 0.025069  , 0.02424431, 0.01804996,\n",
       "        0.02974224, 0.03280187, 0.03023982, 0.02169061, 0.03125763,\n",
       "        0.03096199, 0.03125072, 0.04025888, 0.03125143, 0.01567483,\n",
       "        0.01471853, 0.03124952, 0.01563478, 0.04047203, 0.03124714,\n",
       "        0.03125095, 0.02686381, 0.02129602, 0.02477837, 0.02932501,\n",
       "        0.0301013 , 0.03024983, 0.02245426, 0.02376509, 0.01948786,\n",
       "        0.0303247 , 0.02701306, 0.03094912, 0.03592134, 0.02235413,\n",
       "        0.02321839, 0.02700186, 0.03026652, 0.03391695, 0.03120732,\n",
       "        0.03029299, 0.03027058, 0.02974963, 0.03205299, 0.03293705,\n",
       "        0.03017831, 0.03198457, 0.03256631, 0.02751088, 0.02996469,\n",
       "        0.03125906, 0.03317761, 0.02919865, 0.02988815, 0.03122497,\n",
       "        0.03080773, 0.02743173, 0.02662826, 0.03195953, 0.02366281,\n",
       "        0.0360384 ]),\n",
       " 'test_f1_weighted': array([1., 1., 0., 1., 0., 0., 0., 1., 0., 1., 0., 1., 1., 0., 1., 0., 1.,\n",
       "        0., 1., 0., 0., 0., 1., 0., 1., 0., 0., 0., 1., 1., 0., 0., 1., 0.,\n",
       "        0., 1., 0., 1., 1., 1., 0., 1., 0., 0., 0., 1., 0., 0., 0., 0., 0.,\n",
       "        0., 1., 0., 1., 1., 1., 0., 1., 0., 1.])}"
      ]
     },
     "execution_count": 55,
     "metadata": {},
     "output_type": "execute_result"
    }
   ],
   "source": [
    "xgb_scores"
   ]
  },
  {
   "cell_type": "markdown",
   "metadata": {},
   "source": [
    "### LightGBM"
   ]
  },
  {
   "cell_type": "code",
   "execution_count": 56,
   "metadata": {},
   "outputs": [],
   "source": [
    "clflgbm = LGBMClassifier(random_state=42)\n",
    "loolgbm = LeaveOneOut()\n",
    "scoring = ['f1_weighted']\n",
    "lgbm_scores = cross_validate(clflgbm, X, y, cv=loolgbm, scoring=scoring)"
   ]
  },
  {
   "cell_type": "code",
   "execution_count": 57,
   "metadata": {},
   "outputs": [
    {
     "data": {
      "text/plain": [
       "{'fit_time': array([0.06967068, 0.06085372, 0.03634334, 0.04246044, 0.04180646,\n",
       "        0.04233122, 0.04391956, 0.04238629, 0.04237247, 0.03635931,\n",
       "        0.04942203, 0.04825902, 0.05444622, 0.05959558, 0.07372069,\n",
       "        0.06040144, 0.05767465, 0.0504806 , 0.06031919, 0.05178761,\n",
       "        0.05065084, 0.04826188, 0.05837202, 0.0495522 , 0.04688787,\n",
       "        0.05412745, 0.04688883, 0.04726362, 0.03437352, 0.04025722,\n",
       "        0.03978801, 0.05338335, 0.04032826, 0.07151246, 0.04688644,\n",
       "        0.05632186, 0.04688668, 0.0472734 , 0.03126264, 0.03163648,\n",
       "        0.04047418, 0.03825927, 0.02422619, 0.04687405, 0.05143332,\n",
       "        0.04888225, 0.0386219 , 0.03124857, 0.04727006, 0.03126454,\n",
       "        0.03164744, 0.07157707, 0.05579782, 0.05277133, 0.05031848,\n",
       "        0.06289911, 0.04029822, 0.06239152, 0.05270529, 0.05927968,\n",
       "        0.04727221]),\n",
       " 'score_time': array([0.        , 0.00606275, 0.00609207, 0.00561762, 0.00613284,\n",
       "        0.00604796, 0.00461435, 0.00611663, 0.00607586, 0.00769162,\n",
       "        0.00633001, 0.00618076, 0.00606871, 0.00506544, 0.00618911,\n",
       "        0.00605512, 0.00707793, 0.00619841, 0.00720668, 0.00124049,\n",
       "        0.00626183, 0.00613189, 0.00619793, 0.00673389, 0.        ,\n",
       "        0.00175667, 0.        , 0.        , 0.01562524, 0.00700521,\n",
       "        0.        , 0.00950575, 0.        , 0.        , 0.        ,\n",
       "        0.        , 0.        , 0.00879931, 0.015625  , 0.        ,\n",
       "        0.        , 0.00900459, 0.01563787, 0.00450802, 0.        ,\n",
       "        0.        , 0.01563907, 0.        , 0.00882936, 0.01562524,\n",
       "        0.        , 0.        , 0.        , 0.        , 0.        ,\n",
       "        0.        , 0.01563835, 0.        , 0.        , 0.01563835,\n",
       "        0.01562548]),\n",
       " 'test_f1_weighted': array([0., 0., 0., 1., 0., 0., 0., 1., 0., 1., 1., 1., 0., 1., 1., 0., 1.,\n",
       "        0., 1., 0., 0., 0., 0., 0., 1., 0., 0., 0., 1., 1., 0., 0., 1., 1.,\n",
       "        0., 1., 0., 1., 1., 1., 0., 0., 0., 0., 0., 1., 0., 0., 0., 0., 0.,\n",
       "        0., 1., 0., 1., 1., 1., 0., 0., 0., 0.])}"
      ]
     },
     "execution_count": 57,
     "metadata": {},
     "output_type": "execute_result"
    }
   ],
   "source": [
    "lgbm_scores"
   ]
  },
  {
   "cell_type": "markdown",
   "metadata": {},
   "source": [
    "### Multilayer perceptron "
   ]
  },
  {
   "cell_type": "code",
   "execution_count": 58,
   "metadata": {},
   "outputs": [],
   "source": [
    "from sklearn.neural_network import MLPClassifier\n",
    "clfmlp = MLPClassifier(solver=\"adam\", activation=\"relu\", learning_rate=\"constant\", random_state=42, max_iter=3000, verbose=False)\n",
    "clfmlp.out_activation_=\"softmax\"\n",
    "scoring = ['f1_weighted']\n",
    "\n",
    "loomlp = LeaveOneOut()\n",
    "mlp_scores = cross_validate(clfmlp, X, y, cv=loomlp, scoring=scoring)"
   ]
  },
  {
   "cell_type": "code",
   "execution_count": 13,
   "metadata": {},
   "outputs": [
    {
     "data": {
      "text/plain": [
       "{'fit_time': array([1.15124893, 1.13180661, 1.12348795, 1.11253762, 1.0327301 ,\n",
       "        1.08632827, 1.07356429, 1.13688278, 1.06864095, 1.10787559,\n",
       "        1.1359446 , 1.13596559, 1.1419642 , 1.06195903, 1.10058141,\n",
       "        1.21590781, 1.21515846, 1.16775227, 1.12964678, 1.18704486,\n",
       "        1.03480268, 1.14733267, 1.14688277, 1.26409721, 1.05851269,\n",
       "        1.07968211, 1.10201979, 1.32567525, 1.33324385, 1.26595473,\n",
       "        1.27010584, 1.33705735, 1.38004303, 1.18911695, 1.28280592,\n",
       "        1.40883517, 1.25776386, 1.23089933, 1.32003713, 1.13269424,\n",
       "        1.18157077, 1.40812492, 1.49038196, 1.45721126, 1.45493889,\n",
       "        1.3393631 , 1.23874021, 1.26300812, 1.17970824, 1.15119743,\n",
       "        1.20248461, 1.26914668, 1.24925923, 1.30362558, 1.4275496 ,\n",
       "        1.32264185, 1.23635983, 1.20800066, 1.16651869, 1.11043262,\n",
       "        1.15139747]),\n",
       " 'score_time': array([0.00622296, 0.0055244 , 0.00754285, 0.        , 0.0155766 ,\n",
       "        0.        , 0.        , 0.        , 0.        , 0.01562405,\n",
       "        0.        , 0.00435424, 0.00520349, 0.00291491, 0.0024116 ,\n",
       "        0.00510669, 0.00592589, 0.00444412, 0.00697207, 0.00501037,\n",
       "        0.00491548, 0.00563622, 0.00616646, 0.00460863, 0.00635242,\n",
       "        0.00533056, 0.00441051, 0.00339484, 0.00054765, 0.        ,\n",
       "        0.00252724, 0.00275373, 0.00126481, 0.00716901, 0.00605536,\n",
       "        0.00496268, 0.00512433, 0.00113201, 0.00436735, 0.00250912,\n",
       "        0.0061419 , 0.00399065, 0.00678277, 0.00664115, 0.00775766,\n",
       "        0.00512481, 0.00387621, 0.00521874, 0.00563741, 0.00614214,\n",
       "        0.00333357, 0.        , 0.00523472, 0.00532341, 0.0053134 ,\n",
       "        0.00529528, 0.00582075, 0.00592828, 0.00463295, 0.00521445,\n",
       "        0.0053153 ]),\n",
       " 'test_balanced_accuracy': array([1., 0., 1., 1., 0., 0., 0., 0., 0., 1., 0., 1., 1., 1., 0., 0., 0.,\n",
       "        1., 1., 1., 0., 0., 1., 0., 1., 0., 1., 0., 1., 0., 1., 0., 0., 0.,\n",
       "        0., 1., 0., 0., 1., 0., 0., 1., 0., 0., 1., 0., 1., 0., 0., 0., 1.,\n",
       "        1., 1., 0., 1., 0., 0., 0., 1., 0., 1.]),\n",
       " 'test_f1_weighted': array([1., 0., 1., 1., 0., 0., 0., 0., 0., 1., 0., 1., 1., 1., 0., 0., 0.,\n",
       "        1., 1., 1., 0., 0., 1., 0., 1., 0., 1., 0., 1., 0., 1., 0., 0., 0.,\n",
       "        0., 1., 0., 0., 1., 0., 0., 1., 0., 0., 1., 0., 1., 0., 0., 0., 1.,\n",
       "        1., 1., 0., 1., 0., 0., 0., 1., 0., 1.])}"
      ]
     },
     "execution_count": 13,
     "metadata": {},
     "output_type": "execute_result"
    }
   ],
   "source": [
    "mlp_scores"
   ]
  },
  {
   "cell_type": "code",
   "execution_count": null,
   "metadata": {},
   "outputs": [],
   "source": []
  }
 ],
 "metadata": {
  "kernelspec": {
   "display_name": "FF",
   "language": "python",
   "name": "python3"
  },
  "language_info": {
   "codemirror_mode": {
    "name": "ipython",
    "version": 3
   },
   "file_extension": ".py",
   "mimetype": "text/x-python",
   "name": "python",
   "nbconvert_exporter": "python",
   "pygments_lexer": "ipython3",
   "version": "3.10.10"
  }
 },
 "nbformat": 4,
 "nbformat_minor": 2
}
